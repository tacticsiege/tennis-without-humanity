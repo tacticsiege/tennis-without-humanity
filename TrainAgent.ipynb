{
 "cells": [
  {
   "cell_type": "code",
   "execution_count": 1,
   "metadata": {},
   "outputs": [],
   "source": [
    "import numpy as np\n",
    "import time\n",
    "import os\n",
    "from collections import namedtuple, deque\n",
    "\n",
    "from unityagents import UnityEnvironment\n",
    "from agent_utils import plot_training_scores\n",
    "\n",
    "from ddpg_agent import DDPG_Agent\n",
    "from ddpg_trainer import train_ddpg\n",
    "\n",
    "import matplotlib.pyplot as plt\n",
    "%matplotlib inline\n",
    "\n",
    "SEED = 0\n",
    "PATH_TO_ENV = 'Tennis_Windows_x86_64/Tennis.exe'"
   ]
  },
  {
   "cell_type": "code",
   "execution_count": 2,
   "metadata": {},
   "outputs": [
    {
     "name": "stderr",
     "output_type": "stream",
     "text": [
      "INFO:unityagents:\n",
      "'Academy' started successfully!\n",
      "Unity Academy name: Academy\n",
      "        Number of Brains: 1\n",
      "        Number of External Brains : 1\n",
      "        Lesson number : 0\n",
      "        Reset Parameters :\n",
      "\t\t\n",
      "Unity brain name: TennisBrain\n",
      "        Number of Visual Observations (per agent): 0\n",
      "        Vector Observation space type: continuous\n",
      "        Vector Observation space size (per agent): 8\n",
      "        Number of stacked Vector Observation: 3\n",
      "        Vector Action space type: continuous\n",
      "        Vector Action space size (per agent): 2\n",
      "        Vector Action descriptions: , \n"
     ]
    }
   ],
   "source": [
    "# create the environment\n",
    "env = UnityEnvironment(file_name=PATH_TO_ENV)\n",
    "\n",
    "# gather scenario information\n",
    "# get the default brain\n",
    "brain_name = env.brain_names[0]\n",
    "brain = env.brains[brain_name]\n",
    "\n",
    "# reset the environment and grab infos\n",
    "env_info = env.reset(train_mode=True)[brain_name]\n",
    "\n",
    "num_agents = len(env_info.agents)\n",
    "action_size = brain.vector_action_space_size\n",
    "states = env_info.vector_observations\n",
    "state_size = states.shape[1]\n",
    "train_mode = True"
   ]
  },
  {
   "cell_type": "markdown",
   "metadata": {},
   "source": [
    "## Create Agent"
   ]
  },
  {
   "cell_type": "code",
   "execution_count": 3,
   "metadata": {},
   "outputs": [],
   "source": [
    "# parameters used for the provided agent\n",
    "agent_params = {\n",
    "    'name': 'Agent OmegaPong',\n",
    "    'buffer_size': int(1e6),\n",
    "    'batch_size': 256,\n",
    "    'layers_actor': [512, 256],\n",
    "    'lr_actor': 5e-4,\n",
    "    'layers_critic': [512, 256, 256],\n",
    "    'lr_critic': 1e-3,\n",
    "    'learn_every': 5,\n",
    "    'learn_passes':5,\n",
    "    'gamma': 0.99,\n",
    "    'tau': 5e-3,\n",
    "    'batch_norm': True,\n",
    "    'weight_decay':0.0\n",
    "}"
   ]
  },
  {
   "cell_type": "code",
   "execution_count": 4,
   "metadata": {},
   "outputs": [
    {
     "name": "stdout",
     "output_type": "stream",
     "text": [
      "{'name': 'Agent OmegaPong', 'buffer_size': 1000000, 'batch_size': 256, 'layers_actor': [512, 256], 'layers_critic': [512, 256, 256], 'lr_actor': 0.0005, 'lr_critic': 0.001, 'gamma': 0.99, 'tau': 0.005, 'weight_decay': 0.0, 'learn_every': 5, 'learn_passes': 5, 'batch_norm': True}\n"
     ]
    }
   ],
   "source": [
    "# create the agent\n",
    "agent = DDPG_Agent(state_size, action_size, brain_name, seed=SEED,\n",
    "                  params=agent_params)\n",
    "print(agent.display_params())"
   ]
  },
  {
   "cell_type": "markdown",
   "metadata": {},
   "source": [
    "## Train Agent"
   ]
  },
  {
   "cell_type": "code",
   "execution_count": 5,
   "metadata": {},
   "outputs": [
    {
     "name": "stdout",
     "output_type": "stream",
     "text": [
      "Saved agent parameters at saved_agents/Agent OmegaPong/\n",
      "\n",
      "Training started for 'Agent OmegaPong'...\n",
      "Episode 50\tAvg. Score: 0.00\tAvg. Steps: 14.14\tTotal Time: 0.472m\n",
      "Episode 100\tAvg. Score: 0.01\tAvg. Steps: 19.10\tTotal Time: 1.162m\n",
      "Episode 150\tAvg. Score: 0.01\tAvg. Steps: 14.20\tTotal Time: 1.674m\n",
      "Episode 200\tAvg. Score: 0.01\tAvg. Steps: 16.14\tTotal Time: 2.254m\n",
      "Episode 250\tAvg. Score: 0.01\tAvg. Steps: 14.18\tTotal Time: 2.770m\n",
      "Episode 300\tAvg. Score: 0.03\tAvg. Steps: 24.92\tTotal Time: 3.685m\n",
      "Episode 350\tAvg. Score: 0.10\tAvg. Steps: 61.38\tTotal Time: 5.907m\n",
      "Episode 400\tAvg. Score: 0.16\tAvg. Steps: 74.76\tTotal Time: 8.595m\n",
      "Episode 450\tAvg. Score: 0.27\tAvg. Steps: 144.64\tTotal Time: 13.849m\n",
      "Episode 500\tAvg. Score: 0.37\tAvg. Steps: 154.40\tTotal Time: 19.523m\n",
      "Episode 550\tAvg. Score: 0.47\tAvg. Steps: 217.62\tTotal Time: 27.403m\n",
      "Episode 600\tAvg. Score: 0.48\tAvg. Steps: 168.98\tTotal Time: 33.624m\n",
      "Episode 650\tAvg. Score: 0.39\tAvg. Steps: 146.76\tTotal Time: 38.964m\n",
      "Episode 700\tAvg. Score: 0.44\tAvg. Steps: 205.82\tTotal Time: 46.461m\n",
      "Episode 750\tAvg. Score: 0.38\tAvg. Steps: 100.92\tTotal Time: 50.186m\n",
      "Episode 800\tAvg. Score: 0.22\tAvg. Steps: 83.46\tTotal Time: 53.266m\n",
      "Episode 850\tAvg. Score: 0.25\tAvg. Steps: 123.94\tTotal Time: 57.870m\n",
      "Episode 900\tAvg. Score: 0.34\tAvg. Steps: 147.94\tTotal Time: 63.365m\n",
      "Episode 950\tAvg. Score: 0.49\tAvg. Steps: 244.12\tTotal Time: 72.434m\n",
      "Episode 951\tMean: 2.45, Max: 2.49, Steps: 952, Time: 42.72s\n",
      "Environment solved in 951 episodes! Total Average score: 0.52\n",
      "Total Duration: 73.15m\n",
      "\n",
      "Saved scores as scores.npy at saved_agents/Agent OmegaPong/\n",
      "Saved actor_weights.pyt at saved_agents/Agent OmegaPong/\n",
      "Saved critic_weights.pyt at saved_agents/Agent OmegaPong/\n",
      "\n",
      "Continuing training...\n",
      "Episode 1000\tAvg. Score: 0.69\tAvg. Steps: 301.34\tTotal Time: 83.436m\n",
      "Episode 1050\tAvg. Score: 0.61\tAvg. Steps: 176.82\tTotal Time: 90.193m\n",
      "Episode 1100\tAvg. Score: 0.40\tAvg. Steps: 144.68\tTotal Time: 95.743m\n",
      "Episode 1150\tAvg. Score: 0.48\tAvg. Steps: 241.68\tTotal Time: 105.107m\n",
      "Episode 1200\tAvg. Score: 0.53\tAvg. Steps: 176.86\tTotal Time: 111.995m\n",
      "Episode 1250\tAvg. Score: 0.61\tAvg. Steps: 298.36\tTotal Time: 123.505m\n",
      "Episode 1300\tAvg. Score: 0.74\tAvg. Steps: 279.00\tTotal Time: 134.360m\n",
      "Episode 1350\tAvg. Score: 0.62\tAvg. Steps: 213.36\tTotal Time: 142.796m\n",
      "Episode 1400\tAvg. Score: 0.52\tAvg. Steps: 203.26\tTotal Time: 150.835m\n",
      "Episode 1450\tAvg. Score: 0.51\tAvg. Steps: 199.96\tTotal Time: 158.829m\n",
      "Episode 1500\tAvg. Score: 0.49\tAvg. Steps: 190.52\tTotal Time: 166.493m\n",
      "Episode 1550\tAvg. Score: 0.63\tAvg. Steps: 308.74\tTotal Time: 179.010m\n",
      "Episode 1600\tAvg. Score: 0.68\tAvg. Steps: 229.72\tTotal Time: 188.405m\n",
      "Episode 1650\tAvg. Score: 0.63\tAvg. Steps: 266.32\tTotal Time: 199.354m\n",
      "Episode 1700\tAvg. Score: 0.67\tAvg. Steps: 257.62\tTotal Time: 209.461m\n",
      "Episode 1750\tAvg. Score: 0.68\tAvg. Steps: 270.56\tTotal Time: 220.709m\n",
      "Episode 1800\tAvg. Score: 0.64\tAvg. Steps: 231.36\tTotal Time: 230.444m\n",
      "Episode 1850\tAvg. Score: 0.67\tAvg. Steps: 288.18\tTotal Time: 242.646m\n",
      "Episode 1900\tAvg. Score: 0.72\tAvg. Steps: 269.60\tTotal Time: 254.114m\n",
      "Episode 1950\tAvg. Score: 0.63\tAvg. Steps: 219.06\tTotal Time: 263.561m\n",
      "Episode 2000\tAvg. Score: 0.68\tAvg. Steps: 311.64\tTotal Time: 277.043m\n",
      "Episode 2050\tAvg. Score: 0.87\tAvg. Steps: 365.80\tTotal Time: 293.041m\n",
      "Episode 2100\tAvg. Score: 0.97\tAvg. Steps: 388.02\tTotal Time: 309.208m\n",
      "Episode 2150\tAvg. Score: 0.96\tAvg. Steps: 356.36\tTotal Time: 324.174m\n",
      "Episode 2200\tAvg. Score: 1.00\tAvg. Steps: 421.26\tTotal Time: 342.011m\n",
      "Episode 2250\tAvg. Score: 1.07\tAvg. Steps: 403.54\tTotal Time: 359.385m\n",
      "Episode 2300\tAvg. Score: 1.00\tAvg. Steps: 370.96\tTotal Time: 375.532m\n",
      "Episode 2350\tAvg. Score: 1.00\tAvg. Steps: 403.80\tTotal Time: 393.413m\n",
      "Episode 2400\tAvg. Score: 0.88\tAvg. Steps: 282.26\tTotal Time: 406.040m\n",
      "Episode 2450\tAvg. Score: 0.77\tAvg. Steps: 320.44\tTotal Time: 420.484m\n",
      "Episode 2500\tAvg. Score: 0.80\tAvg. Steps: 302.52\tTotal Time: 434.103m\n",
      "Episode 2550\tAvg. Score: 0.83\tAvg. Steps: 346.10\tTotal Time: 449.651m\n",
      "Episode 2600\tAvg. Score: 0.78\tAvg. Steps: 263.08\tTotal Time: 461.474m\n",
      "Episode 2650\tAvg. Score: 0.82\tAvg. Steps: 375.36\tTotal Time: 478.385m\n",
      "Episode 2700\tAvg. Score: 0.97\tAvg. Steps: 376.72\tTotal Time: 495.803m\n",
      "Episode 2750\tAvg. Score: 0.89\tAvg. Steps: 322.80\tTotal Time: 510.358m\n",
      "Episode 2800\tAvg. Score: 0.77\tAvg. Steps: 282.56\tTotal Time: 522.306m\n",
      "Episode 2850\tAvg. Score: 0.70\tAvg. Steps: 268.36\tTotal Time: 533.669m\n",
      "Episode 2900\tAvg. Score: 0.89\tAvg. Steps: 423.30\tTotal Time: 551.526m\n",
      "Episode 2950\tAvg. Score: 0.95\tAvg. Steps: 311.04\tTotal Time: 564.683m\n",
      "Episode 3000\tAvg. Score: 0.98\tAvg. Steps: 445.46\tTotal Time: 583.484m\n",
      "\n",
      "Completed training on 3000 episodes.\n",
      "Average Score for last 100 episodes: 0.98\tGoal: 0.5\n",
      "Total Duration: 583.48m\n",
      "\n"
     ]
    }
   ],
   "source": [
    "# train the agent\n",
    "n_episodes = 3000\n",
    "max_t = 2000\n",
    "print_every = 50\n",
    "\n",
    "goal_score = 0.5\n",
    "score_window_size = 100\n",
    "keep_training = True\n",
    "\n",
    "scores = train_ddpg(env, agent, num_agents,\n",
    "                        n_episodes=n_episodes, max_t=max_t,\n",
    "                        print_every=print_every,\n",
    "                        goal_score=goal_score, score_window_size=score_window_size,\n",
    "                        keep_training=keep_training)"
   ]
  },
  {
   "cell_type": "code",
   "execution_count": 6,
   "metadata": {},
   "outputs": [
    {
     "data": {
      "image/png": "[encoded data removed]",
      "text/plain": [
       "<Figure size 432x288 with 1 Axes>"
      ]
     },
     "metadata": {
      "needs_background": "light"
     },
     "output_type": "display_data"
    }
   ],
   "source": [
    "# plot training results\n",
    "plot_training_scores(scores, goal_score, window=score_window_size,\n",
    "                    ylabel='Max Score for all Agents',\n",
    "                    agent_name=agent.name)"
   ]
  },
  {
   "cell_type": "markdown",
   "metadata": {},
   "source": [
    "## Demo Trained or Saved Agents"
   ]
  },
  {
   "cell_type": "code",
   "execution_count": 7,
   "metadata": {},
   "outputs": [
    {
     "name": "stdout",
     "output_type": "stream",
     "text": [
      "\n",
      "Running demo of 'Agent OmegaPong'\n",
      "Episode 1\tMean: 1.55, Min: 1.49, Max: 1.60\n",
      "Episode 2\tMean: 0.55, Min: 0.49, Max: 0.60\n",
      "Episode 3\tMean: 0.15, Min: 0.09, Max: 0.20\n",
      "\n",
      "Demo complete! Avg score: 0.745\n"
     ]
    }
   ],
   "source": [
    "# demo the agent trained in this notebook by uncommenting the cells below\n",
    "\n",
    "#from demos import demo_agent_cont\n",
    "#demo_scores = demo_agent_cont(env, agent, num_agents, n_episodes=3)"
   ]
  },
  {
   "cell_type": "code",
   "execution_count": 3,
   "metadata": {},
   "outputs": [
    {
     "name": "stdout",
     "output_type": "stream",
     "text": [
      "Loaded agent parameters from saved_agents/Agent OmegaPong/\n",
      "{'name': 'Agent OmegaPong', 'buffer_size': 1000000, 'batch_size': 256, 'layers_actor': [512, 256], 'layers_critic': [512, 256, 256], 'lr_actor': 0.0005, 'lr_critic': 0.001, 'gamma': 0.99, 'tau': 0.005, 'weight_decay': 0.0, 'learn_every': 5, 'learn_passes': 5, 'batch_norm': True}\n",
      "\n",
      "Running demo of 'Agent OmegaPong'\n",
      "Episode 1\tMean: 0.35, Min: 0.29, Max: 0.40\n",
      "Episode 2\tMean: 0.85, Min: 0.79, Max: 0.90\n",
      "Episode 3\tMean: 2.60, Min: 2.60, Max: 2.60\n",
      "\n",
      "Demo complete! Avg score: 1.263\n"
     ]
    }
   ],
   "source": [
    "# load a saved agent and run demo\n",
    "from demos import demo_saved_agent_cont\n",
    "\n",
    "demo_agent_name = 'Agent OmegaPong'\n",
    "demo_saved_agent_cont(env, demo_agent_name, n_episodes=3)"
   ]
  },
  {
   "cell_type": "code",
   "execution_count": 4,
   "metadata": {},
   "outputs": [],
   "source": [
    "# close the environment when complete\n",
    "env.close()"
   ]
  }
 ],
 "metadata": {
  "kernelspec": {
   "display_name": "Python 3",
   "language": "python",
   "name": "python3"
  },
  "language_info": {
   "codemirror_mode": {
    "name": "ipython",
    "version": 3
   },
   "file_extension": ".py",
   "mimetype": "text/x-python",
   "name": "python",
   "nbconvert_exporter": "python",
   "pygments_lexer": "ipython3",
   "version": "3.6.8"
  }
 },
 "nbformat": 4,
 "nbformat_minor": 2
}
